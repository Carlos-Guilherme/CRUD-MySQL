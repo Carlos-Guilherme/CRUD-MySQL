{
 "cells": [
  {
   "cell_type": "markdown",
   "id": "4d83fe00",
   "metadata": {},
   "source": [
    "# CRUD com MySQL e Python"
   ]
  },
  {
   "cell_type": "raw",
   "id": "dfe18403",
   "metadata": {},
   "source": [
    "instalação da biblioteca:\n",
    "pip install mysql-connector-python\n",
    "ou no Jupyter\n",
    "!pip install mysql-connector-python"
   ]
  },
  {
   "cell_type": "code",
   "execution_count": null,
   "id": "567d87b8",
   "metadata": {},
   "outputs": [],
   "source": [
    "import mysql.connector"
   ]
  },
  {
   "cell_type": "code",
   "execution_count": null,
   "id": "04e4c101",
   "metadata": {},
   "outputs": [],
   "source": [
    "# conexão com o banco de dados\n",
    "conexao = mysql.connector.connect(\n",
    "    host='localhost',\n",
    "    user='root',\n",
    "    password='81215150',\n",
    "    database='bdyoutube'\n",
    ")\n",
    "\n",
    "cursor = conexao.cursor()"
   ]
  },
  {
   "cell_type": "markdown",
   "id": "7b21f220",
   "metadata": {},
   "source": [
    "## Nese caso a tabela já está criada pelo MySQL, o que torna a execução do comando de 'CREATE' inútil."
   ]
  },
  {
   "cell_type": "code",
   "execution_count": null,
   "id": "f6ea35f6",
   "metadata": {},
   "outputs": [],
   "source": [
    "# inserindo dados\n",
    "nome_produto = 'todynho'\n",
    "valor = 3\n",
    "comando = (f'INSERT INTO vendas (nome_produto, valor) VALUES (\"{nome_produto}\", {valor})')\n",
    "cursor.execute(comando)\n",
    "conexao.commit()"
   ]
  },
  {
   "cell_type": "code",
   "execution_count": null,
   "id": "610016a9",
   "metadata": {},
   "outputs": [],
   "source": [
    "#READ (lendo dados)\n",
    "comando = ('SELECT * FROM vendas')\n",
    "cursor.execute(comando)\n",
    "resultado = cursor.fetchall()\n",
    "print(resultado)"
   ]
  },
  {
   "cell_type": "code",
   "execution_count": null,
   "id": "d4153a0b",
   "metadata": {},
   "outputs": [],
   "source": [
    "#UPDATE (atualizando dados)\n",
    "valor = 6\n",
    "nome_produto = 'todynho'\n",
    "comando = f'UPDATE vendas SET valor = {valor} WHERE nome_produto = \"{nome_produto}\"'\n",
    "cursor.execute(comando)\n",
    "conexao.commit()"
   ]
  },
  {
   "cell_type": "code",
   "execution_count": null,
   "id": "9470667a",
   "metadata": {},
   "outputs": [],
   "source": [
    "#DELETE (apagando dados)\n",
    "nome_produto = 'todynho'\n",
    "comando = f'DELETE FROM vendas WHERE nome_produto = \"{nome_produto}\"'\n",
    "cursor.execute(comando)\n",
    "conexao.commit()"
   ]
  }
 ],
 "metadata": {
  "kernelspec": {
   "display_name": "Python 3 (ipykernel)",
   "language": "python",
   "name": "python3"
  },
  "language_info": {
   "codemirror_mode": {
    "name": "ipython",
    "version": 3
   },
   "file_extension": ".py",
   "mimetype": "text/x-python",
   "name": "python",
   "nbconvert_exporter": "python",
   "pygments_lexer": "ipython3",
   "version": "3.11.4"
  }
 },
 "nbformat": 4,
 "nbformat_minor": 5
}
